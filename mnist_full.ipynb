{
 "cells": [
  {
   "cell_type": "code",
   "execution_count": 181,
   "metadata": {},
   "outputs": [],
   "source": [
    "import torch\n",
    "import torch.nn as nn\n",
    "import torch.nn.functional as F\n",
    "import numpy as np\n",
    "from torch.autograd import Variable\n",
    "import pandas as pd"
   ]
  },
  {
   "cell_type": "code",
   "execution_count": 182,
   "metadata": {},
   "outputs": [],
   "source": [
    "train_data = pd.read_csv('./mnist_train.csv', sep=',', header=None)\n",
    "train_labels = train_data[0]\n",
    "train_data = train_data.drop(0, axis=1)\n",
    "\n",
    "test_data = pd.read_csv('./mnist_test.csv', sep=',', header=None)\n",
    "test_labels = test_data[0]\n",
    "test_data = test_data.drop(0, axis=1)\n",
    "\n",
    "train_data = torch.FloatTensor(train_data.to_numpy())\n",
    "train_labels = torch.LongTensor(train_labels.to_numpy())\n",
    "test_data = torch.FloatTensor(test_data.to_numpy())"
   ]
  },
  {
   "cell_type": "code",
   "execution_count": 183,
   "metadata": {},
   "outputs": [],
   "source": [
    "input_size = 784\n",
    "output_size = 10\n",
    "hidden_size = 50\n",
    "\n",
    "epochs = 40\n",
    "batch_size = 200\n",
    "learning_rate = 0.00005"
   ]
  },
  {
   "cell_type": "code",
   "execution_count": 184,
   "metadata": {},
   "outputs": [],
   "source": [
    "class Net(nn.Module):\n",
    "    def __init__(self):\n",
    "        super(Net, self).__init__()\n",
    "        self.fc1 = nn.Linear(input_size, hidden_size)\n",
    "        self.fc2 = nn.Linear(hidden_size, hidden_size)\n",
    "        self.fc3 = nn.Linear(hidden_size, output_size)\n",
    "\n",
    "    def forward(self, x):\n",
    "        x = F.relu(self.fc1(x))\n",
    "        x = F.relu(self.fc2(x))\n",
    "        x = self.fc3(x)\n",
    "        return F.log_softmax(x)"
   ]
  },
  {
   "cell_type": "code",
   "execution_count": 185,
   "metadata": {},
   "outputs": [],
   "source": [
    "my_net = Net()"
   ]
  },
  {
   "cell_type": "code",
   "execution_count": 186,
   "metadata": {},
   "outputs": [],
   "source": [
    "optimizer = torch.optim.SGD(my_net.parameters(), lr=learning_rate, momentum=0.9)\n",
    "loss = nn.CrossEntropyLoss()"
   ]
  },
  {
   "cell_type": "code",
   "execution_count": 187,
   "metadata": {},
   "outputs": [
    {
     "name": "stderr",
     "output_type": "stream",
     "text": [
      "C:\\Users\\ethan\\AppData\\Local\\Temp\\ipykernel_24316\\966333629.py:12: UserWarning: Implicit dimension choice for log_softmax has been deprecated. Change the call to include dim=X as an argument.\n",
      "  return F.log_softmax(x)\n"
     ]
    }
   ],
   "source": [
    "for i in range(epochs):\n",
    "    for j in range(0, train_data.shape[0], batch_size):\n",
    "        data_minibatch = Variable(train_data[j : j+batch_size])\n",
    "        label_minibatch = Variable(train_labels[j: j+batch_size])\n",
    "        optimizer.zero_grad()\n",
    "        net_out = my_net(data_minibatch)\n",
    "        net_loss = loss(net_out, label_minibatch)\n",
    "        net_loss.backward()\n",
    "        optimizer.step()"
   ]
  },
  {
   "cell_type": "code",
   "execution_count": 188,
   "metadata": {},
   "outputs": [],
   "source": [
    "activations = []\n",
    "\n",
    "def get_activation():\n",
    "    def hook(model, input, output):\n",
    "        activations.append(output.detach().numpy())\n",
    "    return hook"
   ]
  },
  {
   "cell_type": "code",
   "execution_count": 192,
   "metadata": {},
   "outputs": [
    {
     "name": "stdout",
     "output_type": "stream",
     "text": [
      "[array([[ -30.140766 ,  -33.977783 ,  -73.072754 , ...,    6.990468 ,\n",
      "         -65.217285 ,    4.2281456],\n",
      "       [-112.95897  ,  -48.209785 ,  -37.362717 , ...,  -89.13971  ,\n",
      "         -81.17749  ,  -54.68694  ],\n",
      "       [ -52.05144  ,  -48.533146 ,  -66.3577   , ...,    6.1681223,\n",
      "         -21.432804 ,  -67.18391  ],\n",
      "       ...,\n",
      "       [-113.04425  , -103.617645 , -130.34914  , ...,  146.3792   ,\n",
      "         -75.933075 , -206.44609  ],\n",
      "       [ -86.17983  ,   -9.884845 ,  -93.59358  , ...,  224.71104  ,\n",
      "         -93.19644  , -140.32481  ],\n",
      "       [-160.26582  ,   -2.186168 , -124.72555  , ...,  -89.91628  ,\n",
      "         -75.19927  , -176.85858  ]], dtype=float32), array([[-11.885887  ,   5.761706  ,  49.98755   , ..., -13.98451   ,\n",
      "          8.55999   ,   6.567243  ],\n",
      "       [-42.16566   ,   9.647726  ,  39.39186   , ..., -55.859314  ,\n",
      "         67.70456   ,  47.478096  ],\n",
      "       [ -1.7547773 ,   0.11256699,   4.8556733 , ..., -17.137312  ,\n",
      "         33.539433  ,  14.123151  ],\n",
      "       ...,\n",
      "       [-15.997474  , -11.742397  ,  26.423145  , ...,  29.794529  ,\n",
      "         43.44845   ,  43.57081   ],\n",
      "       [-20.755997  ,  20.957949  ,  -1.3308825 , ...,  -7.740658  ,\n",
      "         65.40779   ,  64.07239   ],\n",
      "       [-15.634713  , -32.03829   ,  20.572283  , ...,  -4.271702  ,\n",
      "         54.89267   ,  84.033554  ]], dtype=float32), array([[  0.20235005,  -4.022012  ,   3.6867588 , ...,  12.689446  ,\n",
      "         -3.9751089 ,   0.87351334],\n",
      "       [  4.353128  ,   6.2041764 ,  13.327076  , ...,  -7.482197  ,\n",
      "          0.2935846 , -14.169268  ],\n",
      "       [ -4.65112   ,   6.4539895 ,  -2.3534517 , ...,  -0.57110816,\n",
      "         -1.9914777 ,  -4.8698816 ],\n",
      "       ...,\n",
      "       [ -2.7285514 ,  -5.1046453 ,  -6.23356   , ...,   4.376749  ,\n",
      "          3.64747   ,   9.125174  ],\n",
      "       [ -0.95816094,  -3.6564062 ,  -6.3162427 , ...,  -9.091578  ,\n",
      "          6.90017   ,  -2.97636   ],\n",
      "       [  6.399919  ,  -4.6860747 ,   7.9763336 , ...,  -5.1360664 ,\n",
      "         -0.8028989 ,   0.66800815]], dtype=float32), array([[ -30.140766 ,  -33.977783 ,  -73.072754 , ...,    6.990468 ,\n",
      "         -65.217285 ,    4.2281456],\n",
      "       [-112.95897  ,  -48.209785 ,  -37.362717 , ...,  -89.13971  ,\n",
      "         -81.17749  ,  -54.68694  ],\n",
      "       [ -52.05144  ,  -48.533146 ,  -66.3577   , ...,    6.1681223,\n",
      "         -21.432804 ,  -67.18391  ],\n",
      "       ...,\n",
      "       [-113.04425  , -103.617645 , -130.34914  , ...,  146.3792   ,\n",
      "         -75.933075 , -206.44609  ],\n",
      "       [ -86.17983  ,   -9.884845 ,  -93.59358  , ...,  224.71104  ,\n",
      "         -93.19644  , -140.32481  ],\n",
      "       [-160.26582  ,   -2.186168 , -124.72555  , ...,  -89.91628  ,\n",
      "         -75.19927  , -176.85858  ]], dtype=float32), array([[-11.885887  ,   5.761706  ,  49.98755   , ..., -13.98451   ,\n",
      "          8.55999   ,   6.567243  ],\n",
      "       [-42.16566   ,   9.647726  ,  39.39186   , ..., -55.859314  ,\n",
      "         67.70456   ,  47.478096  ],\n",
      "       [ -1.7547773 ,   0.11256699,   4.8556733 , ..., -17.137312  ,\n",
      "         33.539433  ,  14.123151  ],\n",
      "       ...,\n",
      "       [-15.997474  , -11.742397  ,  26.423145  , ...,  29.794529  ,\n",
      "         43.44845   ,  43.57081   ],\n",
      "       [-20.755997  ,  20.957949  ,  -1.3308825 , ...,  -7.740658  ,\n",
      "         65.40779   ,  64.07239   ],\n",
      "       [-15.634713  , -32.03829   ,  20.572283  , ...,  -4.271702  ,\n",
      "         54.89267   ,  84.033554  ]], dtype=float32), array([[  0.20235005,  -4.022012  ,   3.6867588 , ...,  12.689446  ,\n",
      "         -3.9751089 ,   0.87351334],\n",
      "       [  4.353128  ,   6.2041764 ,  13.327076  , ...,  -7.482197  ,\n",
      "          0.2935846 , -14.169268  ],\n",
      "       [ -4.65112   ,   6.4539895 ,  -2.3534517 , ...,  -0.57110816,\n",
      "         -1.9914777 ,  -4.8698816 ],\n",
      "       ...,\n",
      "       [ -2.7285514 ,  -5.1046453 ,  -6.23356   , ...,   4.376749  ,\n",
      "          3.64747   ,   9.125174  ],\n",
      "       [ -0.95816094,  -3.6564062 ,  -6.3162427 , ...,  -9.091578  ,\n",
      "          6.90017   ,  -2.97636   ],\n",
      "       [  6.399919  ,  -4.6860747 ,   7.9763336 , ...,  -5.1360664 ,\n",
      "         -0.8028989 ,   0.66800815]], dtype=float32), array([[ -30.140766 ,  -33.977783 ,  -73.072754 , ...,    6.990468 ,\n",
      "         -65.217285 ,    4.2281456],\n",
      "       [-112.95897  ,  -48.209785 ,  -37.362717 , ...,  -89.13971  ,\n",
      "         -81.17749  ,  -54.68694  ],\n",
      "       [ -52.05144  ,  -48.533146 ,  -66.3577   , ...,    6.1681223,\n",
      "         -21.432804 ,  -67.18391  ],\n",
      "       ...,\n",
      "       [-113.04425  , -103.617645 , -130.34914  , ...,  146.3792   ,\n",
      "         -75.933075 , -206.44609  ],\n",
      "       [ -86.17983  ,   -9.884845 ,  -93.59358  , ...,  224.71104  ,\n",
      "         -93.19644  , -140.32481  ],\n",
      "       [-160.26582  ,   -2.186168 , -124.72555  , ...,  -89.91628  ,\n",
      "         -75.19927  , -176.85858  ]], dtype=float32), array([[ -30.140766 ,  -33.977783 ,  -73.072754 , ...,    6.990468 ,\n",
      "         -65.217285 ,    4.2281456],\n",
      "       [-112.95897  ,  -48.209785 ,  -37.362717 , ...,  -89.13971  ,\n",
      "         -81.17749  ,  -54.68694  ],\n",
      "       [ -52.05144  ,  -48.533146 ,  -66.3577   , ...,    6.1681223,\n",
      "         -21.432804 ,  -67.18391  ],\n",
      "       ...,\n",
      "       [-113.04425  , -103.617645 , -130.34914  , ...,  146.3792   ,\n",
      "         -75.933075 , -206.44609  ],\n",
      "       [ -86.17983  ,   -9.884845 ,  -93.59358  , ...,  224.71104  ,\n",
      "         -93.19644  , -140.32481  ],\n",
      "       [-160.26582  ,   -2.186168 , -124.72555  , ...,  -89.91628  ,\n",
      "         -75.19927  , -176.85858  ]], dtype=float32), array([[-11.885887  ,   5.761706  ,  49.98755   , ..., -13.98451   ,\n",
      "          8.55999   ,   6.567243  ],\n",
      "       [-42.16566   ,   9.647726  ,  39.39186   , ..., -55.859314  ,\n",
      "         67.70456   ,  47.478096  ],\n",
      "       [ -1.7547773 ,   0.11256699,   4.8556733 , ..., -17.137312  ,\n",
      "         33.539433  ,  14.123151  ],\n",
      "       ...,\n",
      "       [-15.997474  , -11.742397  ,  26.423145  , ...,  29.794529  ,\n",
      "         43.44845   ,  43.57081   ],\n",
      "       [-20.755997  ,  20.957949  ,  -1.3308825 , ...,  -7.740658  ,\n",
      "         65.40779   ,  64.07239   ],\n",
      "       [-15.634713  , -32.03829   ,  20.572283  , ...,  -4.271702  ,\n",
      "         54.89267   ,  84.033554  ]], dtype=float32), array([[-11.885887  ,   5.761706  ,  49.98755   , ..., -13.98451   ,\n",
      "          8.55999   ,   6.567243  ],\n",
      "       [-42.16566   ,   9.647726  ,  39.39186   , ..., -55.859314  ,\n",
      "         67.70456   ,  47.478096  ],\n",
      "       [ -1.7547773 ,   0.11256699,   4.8556733 , ..., -17.137312  ,\n",
      "         33.539433  ,  14.123151  ],\n",
      "       ...,\n",
      "       [-15.997474  , -11.742397  ,  26.423145  , ...,  29.794529  ,\n",
      "         43.44845   ,  43.57081   ],\n",
      "       [-20.755997  ,  20.957949  ,  -1.3308825 , ...,  -7.740658  ,\n",
      "         65.40779   ,  64.07239   ],\n",
      "       [-15.634713  , -32.03829   ,  20.572283  , ...,  -4.271702  ,\n",
      "         54.89267   ,  84.033554  ]], dtype=float32), array([[  0.20235005,  -4.022012  ,   3.6867588 , ...,  12.689446  ,\n",
      "         -3.9751089 ,   0.87351334],\n",
      "       [  4.353128  ,   6.2041764 ,  13.327076  , ...,  -7.482197  ,\n",
      "          0.2935846 , -14.169268  ],\n",
      "       [ -4.65112   ,   6.4539895 ,  -2.3534517 , ...,  -0.57110816,\n",
      "         -1.9914777 ,  -4.8698816 ],\n",
      "       ...,\n",
      "       [ -2.7285514 ,  -5.1046453 ,  -6.23356   , ...,   4.376749  ,\n",
      "          3.64747   ,   9.125174  ],\n",
      "       [ -0.95816094,  -3.6564062 ,  -6.3162427 , ...,  -9.091578  ,\n",
      "          6.90017   ,  -2.97636   ],\n",
      "       [  6.399919  ,  -4.6860747 ,   7.9763336 , ...,  -5.1360664 ,\n",
      "         -0.8028989 ,   0.66800815]], dtype=float32), array([[  0.20235005,  -4.022012  ,   3.6867588 , ...,  12.689446  ,\n",
      "         -3.9751089 ,   0.87351334],\n",
      "       [  4.353128  ,   6.2041764 ,  13.327076  , ...,  -7.482197  ,\n",
      "          0.2935846 , -14.169268  ],\n",
      "       [ -4.65112   ,   6.4539895 ,  -2.3534517 , ...,  -0.57110816,\n",
      "         -1.9914777 ,  -4.8698816 ],\n",
      "       ...,\n",
      "       [ -2.7285514 ,  -5.1046453 ,  -6.23356   , ...,   4.376749  ,\n",
      "          3.64747   ,   9.125174  ],\n",
      "       [ -0.95816094,  -3.6564062 ,  -6.3162427 , ...,  -9.091578  ,\n",
      "          6.90017   ,  -2.97636   ],\n",
      "       [  6.399919  ,  -4.6860747 ,   7.9763336 , ...,  -5.1360664 ,\n",
      "         -0.8028989 ,   0.66800815]], dtype=float32)]\n",
      "10000\n"
     ]
    },
    {
     "name": "stderr",
     "output_type": "stream",
     "text": [
      "C:\\Users\\ethan\\AppData\\Local\\Temp\\ipykernel_24316\\966333629.py:12: UserWarning: Implicit dimension choice for log_softmax has been deprecated. Change the call to include dim=X as an argument.\n",
      "  return F.log_softmax(x)\n"
     ]
    }
   ],
   "source": [
    "my_net.fc1.register_forward_hook(get_activation())\n",
    "my_net.fc2.register_forward_hook(get_activation())\n",
    "my_net.fc3.register_forward_hook(get_activation())\n",
    "out = my_net(test_data)\n",
    "print(activations)\n",
    "print(len(activations[0]))"
   ]
  },
  {
   "cell_type": "code",
   "execution_count": 190,
   "metadata": {},
   "outputs": [
    {
     "name": "stdout",
     "output_type": "stream",
     "text": [
      "0.9528\n"
     ]
    },
    {
     "name": "stderr",
     "output_type": "stream",
     "text": [
      "C:\\Users\\ethan\\AppData\\Local\\Temp\\ipykernel_24316\\966333629.py:12: UserWarning: Implicit dimension choice for log_softmax has been deprecated. Change the call to include dim=X as an argument.\n",
      "  return F.log_softmax(x)\n"
     ]
    }
   ],
   "source": [
    "net_out = my_net(Variable(test_data))\n",
    "test_out = torch.max(net_out.data, 1)[1].numpy()\n",
    "\n",
    "print(np.count_nonzero(test_out==test_labels) / len(test_labels))"
   ]
  },
  {
   "cell_type": "code",
   "execution_count": 191,
   "metadata": {},
   "outputs": [
    {
     "name": "stdout",
     "output_type": "stream",
     "text": [
      "(50, 784)\n"
     ]
    }
   ],
   "source": [
    "print(my_net.fc1.weight.data.numpy().shape)"
   ]
  }
 ],
 "metadata": {
  "kernelspec": {
   "display_name": "Python 3",
   "language": "python",
   "name": "python3"
  },
  "language_info": {
   "codemirror_mode": {
    "name": "ipython",
    "version": 3
   },
   "file_extension": ".py",
   "mimetype": "text/x-python",
   "name": "python",
   "nbconvert_exporter": "python",
   "pygments_lexer": "ipython3",
   "version": "3.10.11"
  }
 },
 "nbformat": 4,
 "nbformat_minor": 2
}
