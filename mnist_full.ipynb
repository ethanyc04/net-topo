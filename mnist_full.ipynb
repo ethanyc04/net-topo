{
 "cells": [
  {
   "cell_type": "code",
   "execution_count": 1,
   "metadata": {},
   "outputs": [],
   "source": [
    "import torch\n",
    "import torch.nn as nn\n",
    "import torch.nn.functional as F\n",
    "import numpy as np\n",
    "from torch.autograd import Variable\n",
    "import pandas as pd\n",
    "import scipy.stats"
   ]
  },
  {
   "cell_type": "code",
   "execution_count": 2,
   "metadata": {},
   "outputs": [],
   "source": [
    "train_data = pd.read_csv('./mnist_train.csv', sep=',', header=None)\n",
    "train_labels = train_data[0]\n",
    "train_data = train_data.drop(0, axis=1)\n",
    "\n",
    "test_data = pd.read_csv('./mnist_test.csv', sep=',', header=None)\n",
    "test_labels = test_data[0]\n",
    "test_data = test_data.drop(0, axis=1)\n",
    "\n",
    "train_data = torch.FloatTensor(train_data.to_numpy())\n",
    "train_labels = torch.LongTensor(train_labels.to_numpy())\n",
    "test_data = torch.FloatTensor(test_data.to_numpy())"
   ]
  },
  {
   "cell_type": "code",
   "execution_count": 3,
   "metadata": {},
   "outputs": [],
   "source": [
    "input_size = 784\n",
    "output_size = 10\n",
    "hidden_size = 50\n",
    "\n",
    "epochs = 40\n",
    "batch_size = 100\n",
    "learning_rate = 0.00005"
   ]
  },
  {
   "cell_type": "code",
   "execution_count": 4,
   "metadata": {},
   "outputs": [],
   "source": [
    "class Net(nn.Module):\n",
    "    def __init__(self):\n",
    "        super(Net, self).__init__()\n",
    "        self.fc1 = nn.Linear(input_size, hidden_size)\n",
    "        self.fc2 = nn.Linear(hidden_size, hidden_size)\n",
    "        self.fc3 = nn.Linear(hidden_size, output_size)\n",
    "\n",
    "    def forward(self, x):\n",
    "        x = F.relu(self.fc1(x))\n",
    "        x = F.relu(self.fc2(x))\n",
    "        x = self.fc3(x)\n",
    "        return F.log_softmax(x)"
   ]
  },
  {
   "cell_type": "code",
   "execution_count": 5,
   "metadata": {},
   "outputs": [],
   "source": [
    "my_net = Net()"
   ]
  },
  {
   "cell_type": "code",
   "execution_count": 6,
   "metadata": {},
   "outputs": [],
   "source": [
    "optimizer = torch.optim.SGD(my_net.parameters(), lr=learning_rate, momentum=0.9)\n",
    "loss = nn.CrossEntropyLoss()"
   ]
  },
  {
   "cell_type": "code",
   "execution_count": 7,
   "metadata": {},
   "outputs": [
    {
     "name": "stderr",
     "output_type": "stream",
     "text": [
      "C:\\Users\\ethan\\AppData\\Local\\Temp\\ipykernel_21412\\966333629.py:12: UserWarning: Implicit dimension choice for log_softmax has been deprecated. Change the call to include dim=X as an argument.\n",
      "  return F.log_softmax(x)\n"
     ]
    }
   ],
   "source": [
    "for i in range(epochs):\n",
    "    for j in range(0, train_data.shape[0], batch_size):\n",
    "        data_minibatch = Variable(train_data[j : j+batch_size])\n",
    "        label_minibatch = Variable(train_labels[j: j+batch_size])\n",
    "        optimizer.zero_grad()\n",
    "        net_out = my_net(data_minibatch)\n",
    "        net_loss = loss(net_out, label_minibatch)\n",
    "        net_loss.backward()\n",
    "        optimizer.step()"
   ]
  },
  {
   "cell_type": "code",
   "execution_count": 9,
   "metadata": {},
   "outputs": [],
   "source": [
    "activations = []\n",
    "\n",
    "def get_activation():\n",
    "    def hook(model, input, output):\n",
    "        activations.append(output.detach())\n",
    "    return hook"
   ]
  },
  {
   "cell_type": "code",
   "execution_count": 10,
   "metadata": {},
   "outputs": [
    {
     "name": "stderr",
     "output_type": "stream",
     "text": [
      "C:\\Users\\ethan\\AppData\\Local\\Temp\\ipykernel_21412\\966333629.py:12: UserWarning: Implicit dimension choice for log_softmax has been deprecated. Change the call to include dim=X as an argument.\n",
      "  return F.log_softmax(x)\n"
     ]
    }
   ],
   "source": [
    "my_net.fc1.register_forward_hook(get_activation())\n",
    "my_net.fc2.register_forward_hook(get_activation())\n",
    "net_out = my_net(test_data)"
   ]
  },
  {
   "cell_type": "code",
   "execution_count": 11,
   "metadata": {},
   "outputs": [
    {
     "name": "stdout",
     "output_type": "stream",
     "text": [
      "0.9592\n"
     ]
    }
   ],
   "source": [
    "test_out = torch.max(net_out.data, 1)[1].numpy()\n",
    "\n",
    "print(np.count_nonzero(test_out==test_labels) / len(test_labels))"
   ]
  },
  {
   "cell_type": "code",
   "execution_count": 12,
   "metadata": {},
   "outputs": [],
   "source": [
    "activations[0] = ((abs(activations[0]) + activations[0])/2).numpy()\n",
    "activations[1] = ((abs(activations[1]) + activations[1])/2).numpy()"
   ]
  },
  {
   "cell_type": "code",
   "execution_count": 17,
   "metadata": {},
   "outputs": [
    {
     "name": "stderr",
     "output_type": "stream",
     "text": [
      "C:\\Users\\ethan\\AppData\\Local\\Temp\\ipykernel_21412\\1478485128.py:8: ConstantInputWarning: An input array is constant; the correlation coefficient is not defined.\n",
      "  adj_matrix[i][j] = abs(scipy.stats.pearsonr(neurons[i], neurons[j])[0])\n"
     ]
    }
   ],
   "source": [
    "neurons = np.concatenate((activations[0].T, activations[1].T))\n",
    "n = len(neurons)\n",
    "adj_matrix = np.zeros((n, n))\n",
    "\n",
    "for i in range(n):\n",
    "    for j in range(n):\n",
    "        if i != j:\n",
    "            adj_matrix[i][j] = abs(scipy.stats.pearsonr(neurons[i], neurons[j])[0])"
   ]
  },
  {
   "cell_type": "code",
   "execution_count": 18,
   "metadata": {},
   "outputs": [
    {
     "name": "stdout",
     "output_type": "stream",
     "text": [
      "(100, 100)\n",
      "[[0.         0.08937855 0.10412257 ... 0.007649   0.05743223 0.01312202]\n",
      " [0.08937855 0.         0.1698319  ... 0.02905375 0.34104251 0.46221098]\n",
      " [0.10412257 0.1698319  0.         ... 0.01222765 0.48279137 0.02736797]\n",
      " ...\n",
      " [0.007649   0.02905375 0.01222765 ... 0.         0.01110578 0.01848494]\n",
      " [0.05743223 0.34104251 0.48279137 ... 0.01110578 0.         0.04164677]\n",
      " [0.01312202 0.46221098 0.02736797 ... 0.01848494 0.04164677 0.        ]]\n"
     ]
    }
   ],
   "source": [
    "print(adj_matrix.shape)\n",
    "print(adj_matrix)"
   ]
  },
  {
   "cell_type": "code",
   "execution_count": null,
   "metadata": {},
   "outputs": [
    {
     "name": "stdout",
     "output_type": "stream",
     "text": [
      "tensor([-1.3707e+01, -2.0329e+01, -1.3905e+01, -1.0911e+01, -1.8184e+01,\n",
      "        -1.1276e+01, -2.7975e+01, -3.4332e-05, -1.4850e+01, -1.3861e+01])\n"
     ]
    },
    {
     "name": "stderr",
     "output_type": "stream",
     "text": [
      "C:\\Users\\ethan\\AppData\\Local\\Temp\\ipykernel_4144\\2749662064.py:9: UserWarning: Implicit dimension choice for log_softmax has been deprecated. Change the call to include dim=X as an argument.\n",
      "  test_comp = F.log_softmax(test_comp)\n"
     ]
    }
   ],
   "source": [
    "test_comp = np.matmul(my_net.fc1.weight.data.numpy(), test_data.numpy()[0])\n",
    "test_comp = test_comp + my_net.fc1.bias.data.numpy()\n",
    "test_comp = (abs(test_comp) + test_comp)/2\n",
    "test_comp = np.matmul(my_net.fc2.weight.data.numpy(), test_comp)\n",
    "test_comp = test_comp + my_net.fc2.bias.data.numpy()\n",
    "test_comp = (abs(test_comp) + test_comp)/2\n",
    "test_comp = torch.from_numpy(np.matmul(my_net.fc3.weight.data.numpy(), test_comp))\n",
    "test_comp = test_comp + my_net.fc3.bias.data\n",
    "test_comp = F.log_softmax(test_comp)\n",
    "print(test_comp)"
   ]
  }
 ],
 "metadata": {
  "kernelspec": {
   "display_name": "Python 3",
   "language": "python",
   "name": "python3"
  },
  "language_info": {
   "codemirror_mode": {
    "name": "ipython",
    "version": 3
   },
   "file_extension": ".py",
   "mimetype": "text/x-python",
   "name": "python",
   "nbconvert_exporter": "python",
   "pygments_lexer": "ipython3",
   "version": "3.10.11"
  }
 },
 "nbformat": 4,
 "nbformat_minor": 2
}
